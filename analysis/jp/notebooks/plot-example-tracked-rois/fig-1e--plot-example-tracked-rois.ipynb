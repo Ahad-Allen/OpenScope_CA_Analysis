{
 "cells": [
  {
   "cell_type": "code",
   "execution_count": 1,
   "metadata": {},
   "outputs": [],
   "source": [
    "import os, copy, sys\n",
    "from matplotlib import pyplot as plt\n",
    "import numpy as np\n",
    "import pandas as pd\n",
    "sys.path.extend(['../..', '../../../..'])\n",
    "import trkd_roi_analysis as tra\n",
    "from matplotlib.backends.backend_pdf import PdfPages\n",
    "import matplotlib.colors as mcolors\n",
    "from matplotlib.colors import colorConverter\n",
    "import matplotlib as mpl\n",
    "import matplotlib.patches as mpatches"
   ]
  },
  {
   "cell_type": "code",
   "execution_count": 2,
   "metadata": {},
   "outputs": [
    {
     "name": "stdout",
     "output_type": "stream",
     "text": [
      "All mice:  [ 1  2  3  4  5  6  7  8  9 10 11 12 13]\n",
      "Mice with all of sessions 1-3 : [ 1  3  4  6  7  8  9 10 11 12 13]\n"
     ]
    }
   ],
   "source": [
    "mouse_df_fnm = '../../../../mouse_df.csv'\n",
    "mouse_df, _, _ = tra.set_up_mouse_info(mouse_df_fnm)"
   ]
  },
  {
   "cell_type": "markdown",
   "metadata": {},
   "source": [
    "<h2>Load data</h2>"
   ]
  },
  {
   "cell_type": "code",
   "execution_count": 3,
   "metadata": {},
   "outputs": [],
   "source": [
    "# mask_fnm = '../../data/nway_union_tmasks.h5'\n",
    "mask_fnm = '../../data/nway_union_tmasks__all_4_planes.h5'\n",
    "nway_union_tmasks_df = pd.read_hdf(mask_fnm)"
   ]
  },
  {
   "cell_type": "code",
   "execution_count": 4,
   "metadata": {},
   "outputs": [
    {
     "data": {
      "text/html": [
       "<div>\n",
       "<style scoped>\n",
       "    .dataframe tbody tr th:only-of-type {\n",
       "        vertical-align: middle;\n",
       "    }\n",
       "\n",
       "    .dataframe tbody tr th {\n",
       "        vertical-align: top;\n",
       "    }\n",
       "\n",
       "    .dataframe thead th {\n",
       "        text-align: right;\n",
       "    }\n",
       "</style>\n",
       "<table border=\"1\" class=\"dataframe\">\n",
       "  <thead>\n",
       "    <tr style=\"text-align: right;\">\n",
       "      <th></th>\n",
       "      <th>mouse_n</th>\n",
       "      <th>layer</th>\n",
       "      <th>compartment</th>\n",
       "      <th>masks</th>\n",
       "    </tr>\n",
       "  </thead>\n",
       "  <tbody>\n",
       "    <tr>\n",
       "      <th>0</th>\n",
       "      <td>6</td>\n",
       "      <td>L2/3</td>\n",
       "      <td>Dendrites</td>\n",
       "      <td>[[[0, 0, 0, 0, 0, 0, 0, 0, 0, 0, 0, 0, 0, 0, 0...</td>\n",
       "    </tr>\n",
       "    <tr>\n",
       "      <th>1</th>\n",
       "      <td>11</td>\n",
       "      <td>L5</td>\n",
       "      <td>Dendrites</td>\n",
       "      <td>[[[0, 0, 0, 0, 0, 0, 0, 0, 0, 0, 0, 0, 0, 0, 0...</td>\n",
       "    </tr>\n",
       "    <tr>\n",
       "      <th>2</th>\n",
       "      <td>3</td>\n",
       "      <td>L2/3</td>\n",
       "      <td>Somas</td>\n",
       "      <td>[[[0, 0, 0, 0, 0, 0, 0, 0, 0, 0, 0, 0, 0, 0, 0...</td>\n",
       "    </tr>\n",
       "    <tr>\n",
       "      <th>3</th>\n",
       "      <td>4</td>\n",
       "      <td>L5</td>\n",
       "      <td>Somas</td>\n",
       "      <td>[[[0, 0, 0, 0, 0, 0, 0, 0, 0, 0, 0, 0, 0, 0, 0...</td>\n",
       "    </tr>\n",
       "  </tbody>\n",
       "</table>\n",
       "</div>"
      ],
      "text/plain": [
       "  mouse_n layer compartment                                              masks\n",
       "0       6  L2/3   Dendrites  [[[0, 0, 0, 0, 0, 0, 0, 0, 0, 0, 0, 0, 0, 0, 0...\n",
       "1      11    L5   Dendrites  [[[0, 0, 0, 0, 0, 0, 0, 0, 0, 0, 0, 0, 0, 0, 0...\n",
       "2       3  L2/3       Somas  [[[0, 0, 0, 0, 0, 0, 0, 0, 0, 0, 0, 0, 0, 0, 0...\n",
       "3       4    L5       Somas  [[[0, 0, 0, 0, 0, 0, 0, 0, 0, 0, 0, 0, 0, 0, 0..."
      ]
     },
     "execution_count": 4,
     "metadata": {},
     "output_type": "execute_result"
    }
   ],
   "source": [
    "nway_union_tmasks_df"
   ]
  },
  {
   "cell_type": "markdown",
   "metadata": {},
   "source": [
    "<h2>Main cell to plot data</h2>"
   ]
  },
  {
   "cell_type": "code",
   "execution_count": 6,
   "metadata": {
    "scrolled": false
   },
   "outputs": [
    {
     "name": "stdout",
     "output_type": "stream",
     "text": [
      "mouse  11\n",
      "mouse  4\n",
      "CPU times: user 7.88 s, sys: 927 ms, total: 8.8 s\n",
      "Wall time: 8.17 s\n"
     ]
    }
   ],
   "source": [
    "%%time\n",
    "\n",
    "mouse_ns = [11,4]\n",
    "mouse_n_exceptions = []\n",
    "\n",
    "# nwaydir = 'n-way-roi-matching'\n",
    "compartments = {'soma':'Somas', 'dend':'Dendrites'}\n",
    "sess_ns = np.array([1,2,3])\n",
    "\n",
    "pdf_fnm = '../../plots/l5-matched-rois.pdf'\n",
    "\n",
    "with PdfPages(pdf_fnm) as pdf:\n",
    "\n",
    "    for mouse_n in mouse_ns:\n",
    "        print('mouse ', mouse_n)\n",
    "        mask = nway_union_tmasks_df['mouse_n']==mouse_n\n",
    "        nway_union_tmasks = nway_union_tmasks_df[mask]['masks'].values[0]\n",
    "        plane = mouse_df[mouse_df['mouse_n']==mouse_n]\\\n",
    "                    ['plane'].unique()[0]\n",
    "        line = mouse_df[mouse_df['mouse_n']==mouse_n]\\\n",
    "                    ['line'].unique()[0]\n",
    "        compartment = compartments[plane]\n",
    "        layers = {'L23-Cux2':'L2/3', 'L5-Rbp4':'L5'}\n",
    "        layer = layers[line]\n",
    "        \n",
    "        plt.figure(figsize=(50,50))\n",
    "        plt.text(0.5, 0.5, '{} {}\\n\\nMouse {}'.format(layer, compartment, mouse_n),  \n",
    "                 horizontalalignment='center', verticalalignment='center', size=100, style='italic')\n",
    "        plt.xticks([],[])\n",
    "        plt.yticks([],[])\n",
    "        plt.axis('off')\n",
    "        pdf.savefig()\n",
    "        plt.close()\n",
    "\n",
    "        \n",
    "        fig, ax = plot_nway_union_figure(mouse_n, layer, compartment, nway_union_tmasks)\n",
    "        pdf.savefig()\n",
    "        plt.close()    "
   ]
  },
  {
   "cell_type": "markdown",
   "metadata": {},
   "source": [
    "<h2>Plotting function</h2>"
   ]
  },
  {
   "cell_type": "code",
   "execution_count": 5,
   "metadata": {},
   "outputs": [],
   "source": [
    "def plot_nway_union_figure(mouse_n, layer, compartment, nway_union_tmasks):\n",
    "\n",
    "    colors = [mcolors.CSS4_COLORS['dimgray'],\n",
    "                  mcolors.CSS4_COLORS['orangered'],\n",
    "                  mcolors.CSS4_COLORS['mediumblue']]\n",
    "    levels=256\n",
    "    alphas = 0.6*np.ceil(np.linspace(0, 0.8, levels+3))\n",
    "    \n",
    "    sess_natural_order = copy.deepcopy(sess_ns)\n",
    "    sess_natural_order.sort()\n",
    "    sess_nat_str = ', '.join(sess_natural_order.astype(str))\n",
    "\n",
    "    fig, ax = plt.subplots(figsize=(50,50), constrained_layout=True)\n",
    "    for k,_ in enumerate(sess_ns):\n",
    "        cmap = mpl.colors.LinearSegmentedColormap.from_list(\n",
    "            'my_cmap',['white', colors[k]],N=levels)\n",
    "        cmap._init()\n",
    "        cmap._lut[:,-1] = alphas\n",
    "        im = plt.imshow(nway_union_tmasks[k,:], cmap=cmap)\n",
    "    plt.xticks([], [])\n",
    "    plt.yticks([], [])\n",
    "    plt.title('N-way matches across permutations (Union - Conflicts)\\n\\n', fontsize=45, fontstyle='italic')\n",
    "    patches = [ mpatches.Patch(color=colors[i], label=\"Session {l}\".format(l=sess_ns[i]) ) \n",
    "               for i in range(len(sess_ns)) ]\n",
    "    plt.legend(handles=patches, bbox_to_anchor=(1.05, 1), loc=2, borderaxespad=0, fontsize=40)\n",
    "\n",
    "    return fig, ax"
   ]
  },
  {
   "cell_type": "code",
   "execution_count": null,
   "metadata": {},
   "outputs": [],
   "source": []
  }
 ],
 "metadata": {
  "kernelspec": {
   "display_name": "osca",
   "language": "python",
   "name": "osca"
  },
  "language_info": {
   "codemirror_mode": {
    "name": "ipython",
    "version": 3
   },
   "file_extension": ".py",
   "mimetype": "text/x-python",
   "name": "python",
   "nbconvert_exporter": "python",
   "pygments_lexer": "ipython3",
   "version": "3.6.13"
  }
 },
 "nbformat": 4,
 "nbformat_minor": 4
}
