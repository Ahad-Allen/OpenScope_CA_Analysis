{
 "cells": [
  {
   "cell_type": "code",
   "execution_count": 1,
   "metadata": {},
   "outputs": [],
   "source": [
    "import shutil, glob, re, os\n",
    "import pandas as pd"
   ]
  },
  {
   "cell_type": "markdown",
   "metadata": {},
   "source": [
    "<h2> Code to place n-way matching files correctly in data directory </h2>\n",
    "\n",
    "- n-way-matching directory should be in the current directory.  \n",
    "- Provide target data directory"
   ]
  },
  {
   "cell_type": "code",
   "execution_count": 2,
   "metadata": {},
   "outputs": [],
   "source": [
    "# Provide target data directory (including \"prod\")\n",
    "data_direc = os.path.join(\"..\", \"..\", \"data\", \"OSCA\", \"prod\")"
   ]
  },
  {
   "cell_type": "code",
   "execution_count": 5,
   "metadata": {},
   "outputs": [],
   "source": [
    "def get_target_direcs(matching_files, data_direc):\n",
    "    \"\"\"\n",
    "    Returns the target directories (mouse/session specific) for each json\n",
    "    \"\"\"\n",
    "    \n",
    "    # get file names\n",
    "    matching_files_local = [os.path.split(matching_file)[-1] for matching_file in matching_files]\n",
    "    \n",
    "    # identify target directories\n",
    "    file_name_tokens = [matching_file_local.split(\"_\") for matching_file_local in matching_files_local]\n",
    "    mouse_ids = [tokens[tokens.index(\"mouse\") + 1] for tokens in file_name_tokens]\n",
    "    sess_ids = [tokens[tokens.index(\"session\") + 1] for tokens in file_name_tokens]\n",
    "    target_direcs = [glob.glob(\n",
    "        os.path.join(\n",
    "            data_direc, \n",
    "            f\"mouse_{mouse_ids[i]}\", \n",
    "            f\"ophys_session_{sess_ids[i]}\", \n",
    "            f\"ophys_experiment_*\", \n",
    "            \"processed\")\n",
    "            )[0] for i in range(len(file_name_tokens))]\n",
    "    \n",
    "    \n",
    "    # identify target paths\n",
    "    matching_file_targets = [\n",
    "        os.path.join(target_direc, matching_file_local) \n",
    "        for (target_direc, matching_file_local) in zip(target_direcs, matching_files_local)\n",
    "    ]\n",
    "    \n",
    "    return matching_file_targets"
   ]
  },
  {
   "cell_type": "code",
   "execution_count": 6,
   "metadata": {},
   "outputs": [],
   "source": [
    "matching_files_direc = \"nway-matched-dfs--iou-min-0.3\"\n",
    "matching_files = glob.glob(os.path.join(matching_files_direc, \"*.json\"))\n",
    "matching_file_targets = get_target_direcs(matching_files, data_direc)\n",
    "\n",
    "# copy files over\n",
    "for (matching_file, matching_file_target) in zip(matching_files, matching_file_targets):\n",
    "    shutil.copy(matching_file, matching_file_target)"
   ]
  },
  {
   "cell_type": "code",
   "execution_count": null,
   "metadata": {},
   "outputs": [],
   "source": []
  }
 ],
 "metadata": {
  "kernelspec": {
   "display_name": "Python 3",
   "language": "python",
   "name": "python3"
  },
  "language_info": {
   "codemirror_mode": {
    "name": "ipython",
    "version": 3
   },
   "file_extension": ".py",
   "mimetype": "text/x-python",
   "name": "python",
   "nbconvert_exporter": "python",
   "pygments_lexer": "ipython3",
   "version": "3.6.12"
  }
 },
 "nbformat": 4,
 "nbformat_minor": 4
}
