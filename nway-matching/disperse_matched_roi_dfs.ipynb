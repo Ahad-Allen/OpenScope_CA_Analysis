{
 "cells": [
  {
   "cell_type": "code",
   "execution_count": null,
   "metadata": {},
   "outputs": [],
   "source": [
    "import shutil, glob, re\n",
    "import pandas as pd"
   ]
  },
  {
   "cell_type": "markdown",
   "metadata": {},
   "source": [
    "<h2> Read me </h2>\n",
    "To use this, place the n-way-matching directory in the current one.  Then provide your data directory (up through and including 'prod/') and run the following cell"
   ]
  },
  {
   "cell_type": "code",
   "execution_count": null,
   "metadata": {},
   "outputs": [],
   "source": [
    "path = './nway-matched-dfs--iou-min-0.3/'\n",
    "orig_fpn_list = glob.glob(path + '*.json')\n",
    "data_dir = '/home/jay/Dropbox/research/yu/dendrites/new-dff-and-data/prod/'\n",
    "fpn_list = path_list_to_copy_jsons(orig_fpn_list, data_dir)\n",
    "for i,_ in enumerate(fpn_list):\n",
    "    shutil.copy(orig_fpn_list[i], fpn_list[i])"
   ]
  },
  {
   "cell_type": "code",
   "execution_count": null,
   "metadata": {},
   "outputs": [],
   "source": [
    "def path_list_to_copy_jsons(orig_fpn_list, root):\n",
    "    \"\"\"\n",
    "    Returns the mouse- and session-specific file path-name to copy matched dfs to\n",
    "    \"\"\"\n",
    "    fnm_tokens_list = [re.split(r'[/, _]', orig_fnm) for orig_fnm in orig_fpn_list]\n",
    "    mouse_id_list = [fnm_tokens[fnm_tokens.index('mouse') + 1] for fnm_tokens in fnm_tokens_list]\n",
    "    sess_id_list = [fnm_tokens[fnm_tokens.index('session') + 1] for fnm_tokens in fnm_tokens_list]\n",
    "    fph_list = [glob.glob(root + 'mouse_' + mouse_id_list[i] + '/ophys_session_' + sess_id_list[i] + \n",
    "                          '/ophys_*/processed/')[0] for i in range(len(fnm_tokens_list))]\n",
    "    \n",
    "    path_tokenization_list = [re.split(r'[/]', orig_fnm) for orig_fnm in orig_fpn_list]\n",
    "    fnm_list = [list(filter(lambda x: 'mouse' in x, path_tokenization))[0] \n",
    "                for path_tokenization in path_tokenization_list]\n",
    "    fpn_list = [fph_list[i] + fnm_list[i] for i in range(len(fph_list))]\n",
    "    return fpn_list"
   ]
  }
 ],
 "metadata": {
  "kernelspec": {
   "display_name": "Python 3",
   "language": "python",
   "name": "python3"
  },
  "language_info": {
   "codemirror_mode": {
    "name": "ipython",
    "version": 3
   },
   "file_extension": ".py",
   "mimetype": "text/x-python",
   "name": "python",
   "nbconvert_exporter": "python",
   "pygments_lexer": "ipython3",
   "version": "3.8.3"
  }
 },
 "nbformat": 4,
 "nbformat_minor": 4
}
