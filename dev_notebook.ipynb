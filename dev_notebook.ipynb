{
 "cells": [
  {
   "cell_type": "code",
   "execution_count": 1,
   "metadata": {},
   "outputs": [
    {
     "data": {
      "text/plain": [
       "<module 'analysis.acr_sess_analys' from '/home/colleen/Documents/AIBS_Analysis/analysis/acr_sess_analys.py'>"
      ]
     },
     "execution_count": 1,
     "metadata": {},
     "output_type": "execute_result"
    }
   ],
   "source": [
    "import copy\n",
    "import importlib\n",
    "import itertools\n",
    "\n",
    "import numpy as np\n",
    "from matplotlib import pyplot as plt\n",
    "import scipy.stats as scist\n",
    "from sklearn.linear_model import LogisticRegression\n",
    "from sklearn.pipeline import make_pipeline\n",
    "from sklearn.model_selection import cross_validate\n",
    "\n",
    "from analysis import session, acr_sess_analys\n",
    "from sess_util import sess_gen_util, sess_ntuple_util\n",
    "from util import gen_util, logreg_util, math_util, plot_util\n",
    "\n",
    "importlib.reload(acr_sess_analys)"
   ]
  },
  {
   "cell_type": "code",
   "execution_count": 2,
   "metadata": {},
   "outputs": [],
   "source": [
    "plot_util.linclab_plt_defaults()"
   ]
  },
  {
   "cell_type": "code",
   "execution_count": 3,
   "metadata": {},
   "outputs": [],
   "source": [
    "def init_sessions(sessid, datadir):\n",
    "    sess = session.Session(datadir, sessid)\n",
    "    sess.extract_sess_attribs()\n",
    "    print(f'Mouse {sess.mouse_n}, Session {sess.sess_n}')\n",
    "    sess.extract_info()\n",
    "    return sess\n",
    "\n",
    "def extract_data_targ(sess, analyspar, stimpar):\n",
    "    data, targ = [], []\n",
    "    n_vals = []\n",
    "    # reg, surp x ROIs x seq x frames\n",
    "    data = acr_sess_analys.surp_data_by_sess(sess, analyspar, stimpar, datatype='roi', surp='bysurp', \n",
    "        integ=False, baseline=0.13)\n",
    "    n_vals = [sub_data.shape[1] for sub_data in data]\n",
    "    targ = np.concatenate([np.full(n, s) for s, n in enumerate(n_vals)])\n",
    "    data = np.concatenate(data, axis=1)\n",
    "    \n",
    "    return data, targ, n_vals"
   ]
  },
  {
   "cell_type": "code",
   "execution_count": 4,
   "metadata": {},
   "outputs": [],
   "source": [
    "def run_logreg(data, targ, n_splits, shuffle, scoring, seed):\n",
    "    cv = logreg_util.StratifiedShuffleSplitMod(n_splits=n_splits, train_p=0.75, random_state=seed)\n",
    "    scaler = logreg_util.ModData(scale=True, extrem=True, shuffle=shuffle, seed=seed)\n",
    "    mod = LogisticRegression(C=1, fit_intercept=True, class_weight='balanced', penalty='l2', \n",
    "                             solver='lbfgs', max_iter=1000, random_state=seed, n_jobs=n_jobs)\n",
    "    mod_pip = make_pipeline(scaler, mod)\n",
    "    mod_cvs = cross_validate(mod_pip, data, targ, cv=cv, \n",
    "        return_estimator=True, return_train_score=True, n_jobs=8, \n",
    "        verbose=False, scoring=scoring)\n",
    "    return mod_cvs\n",
    "\n",
    "def plot_roi_acc(full_acc, roi_acc, full_diff, roi_diff, stimtype='gabors'):\n",
    "    roi_acc_mean = np.mean(roi_acc, axis=-1)\n",
    "    roi_acc_sem = scist.sem(roi_acc, axis=-1)\n",
    "    full_acc_mean = np.mean(full_acc)\n",
    "    full_acc_sem = scist.sem(full_acc)\n",
    "\n",
    "    roi_diff_mean = np.mean(roi_diff, axis=-1)\n",
    "    roi_diff_sem = scist.sem(roi_diff, axis=-1)\n",
    "    full_diff_mean = np.mean(full_diff)\n",
    "    full_diff_sem = scist.sem(full_diff)\n",
    "    \n",
    "    fig, ax = plt.subplots(1)\n",
    "    ax.axhline(0.5, lw=2.5, color='gray', ls='dashed')\n",
    "    ax.axvline(0.0, lw=2.5, color='gray', ls='dashed')\n",
    "    ax.errorbar(roi_diff_mean, roi_acc_mean, yerr=roi_acc_sem, xerr=roi_diff_sem, \n",
    "                alpha=0.3, lw=0, marker='.', elinewidth=2.5)\n",
    "    ax.errorbar(full_diff_mean, full_acc_mean, yerr=full_acc_sem, xerr=full_diff_sem, \n",
    "                lw=0, marker='.', elinewidth=2.5)\n",
    "    ax.set_title(f'Surprise decoding accuracy per ROI ({stimtype.capitalize()})')\n",
    "    ax.set_ylim([0, 1])"
   ]
  },
  {
   "cell_type": "code",
   "execution_count": 5,
   "metadata": {},
   "outputs": [],
   "source": [
    "def get_diff_data(sess, analyspar, stimpar):\n",
    "    data, targ, n_vals = extract_data_targ(sess, analyspar, stimpar)\n",
    "    roi_diff = np.mean(data[:, n_vals[0] :], axis=1) - np.mean(data[:, : n_vals[0]], axis=1)\n",
    "    full_diff = np.mean(roi_diff, axis=-1) # across frames\n",
    "    return full_diff, roi_diff\n",
    "\n",
    "def run_all_logreg(sessid, datadir, scoring, stimpar, n_splits, shuffle, seed):\n",
    "    sess = init_sessions(sessid, datadir)\n",
    "    analyspar_noscale = sess_ntuple_util.init_analyspar(scale=False)\n",
    "    analyspar_scale = sess_ntuple_util.init_analyspar(scale=True)\n",
    "    data, targ, n_vals = extract_data_targ(sess, analyspar_noscale, stimpar)\n",
    "    print('Data shape: {}'.format(', '.join([str(dim) for dim in data.shape])))\n",
    "    print('N vals: {}'.format(', '.join([str(val) for val in n_vals])))\n",
    "    full_mod = run_logreg(np.transpose(data, [1, 2, 0]), targ, n_splits, shuffle, scoring, seed)\n",
    "    full_acc = full_mod['test_balanced_accuracy']\n",
    "    roi_acc = np.full([len(data), n_splits], np.nan)\n",
    "    for n, roi_data in enumerate(data):\n",
    "        roi_mod = run_logreg(np.expand_dims(roi_data, -1), targ, n_splits, shuffle, scoring, seed)\n",
    "        roi_acc[n] = roi_mod['test_balanced_accuracy']\n",
    "    full_diff, roi_diff = get_diff_data(sess, analyspar_scale, stimpar)\n",
    "    return full_acc, roi_acc, full_diff, roi_diff"
   ]
  },
  {
   "cell_type": "markdown",
   "metadata": {},
   "source": [
    "## PARAMETERS"
   ]
  },
  {
   "cell_type": "code",
   "execution_count": 6,
   "metadata": {},
   "outputs": [],
   "source": [
    "pre = 0\n",
    "gabfr = 0"
   ]
  },
  {
   "cell_type": "code",
   "execution_count": 7,
   "metadata": {},
   "outputs": [],
   "source": [
    "n_reg = 10\n",
    "n_shuff = 10\n",
    "seed = 905\n",
    "n_jobs = -1\n",
    "\n",
    "datadir = '../data/AIBS'\n",
    "scoring = [\"neg_log_loss\", \"accuracy\", \"balanced_accuracy\"]\n",
    "\n",
    "def set_all_parameters(stimtype):\n",
    "    if stimtype == 'gabors':\n",
    "        post = 1.5\n",
    "    elif stimtype == 'bricks':\n",
    "        post = 1.0\n",
    "\n",
    "    stimpar = sess_ntuple_util.init_stimpar(stimtype, gabfr=gabfr, pre=pre, post=post)\n",
    "    return stimpar"
   ]
  },
  {
   "cell_type": "markdown",
   "metadata": {},
   "source": [
    "## Run regular"
   ]
  },
  {
   "cell_type": "code",
   "execution_count": 8,
   "metadata": {},
   "outputs": [
    {
     "name": "stdout",
     "output_type": "stream",
     "text": [
      "Mouse 1, Session 1\n",
      "\n",
      "Loading stimulus dictionary...\n",
      "Loading alignment dataframe...\n",
      "    NOTE: Stimulus alignment pickle already exists in ../data/AIBS/prod/mouse_408021/ophys_session_758519303\n",
      "Loading sync h5 info...\n",
      "Creating stimulus objects...\n",
      "0\n",
      "0\n",
      "0\n",
      "Loading ROI trace info...\n",
      "    Warning: Noisy ROIs (mean below 0, median above mid-range point) are also included in NaN ROI attributes (but not set to NaN): None.\n",
      "Data shape: 96, 1360, 45\n",
      "N vals: 1266, 94\n"
     ]
    },
    {
     "data": {
      "image/png": "[encoded data removed]",
      "text/plain": [
       "<Figure size 432x288 with 1 Axes>"
      ]
     },
     "metadata": {
      "needs_background": "light"
     },
     "output_type": "display_data"
    }
   ],
   "source": [
    "stimpar = set_all_parameters('gabors')\n",
    "full_acc, roi_acc, full_diff, roi_diff = run_all_logreg(758519303, datadir, scoring, stimpar, n_splits=n_reg, shuffle=False, seed=seed)\n",
    "plot_roi_acc(full_acc, roi_acc, full_diff, roi_diff, stimpar.stimtype)"
   ]
  },
  {
   "cell_type": "code",
   "execution_count": null,
   "metadata": {},
   "outputs": [],
   "source": [
    "stimpar = set_all_parameters('gabors')\n",
    "full_acc, roi_acc, full_diff, roi_diff = run_all_logreg(759189643, datadir, scoring, stimpar, n_splits=n_reg, shuffle=False, seed=seed)\n",
    "plot_roi_acc(full_acc, roi_acc, full_diff, roi_diff, stimpar.stimtype)"
   ]
  },
  {
   "cell_type": "code",
   "execution_count": null,
   "metadata": {},
   "outputs": [],
   "source": [
    "stimpar = set_all_parameters('gabors')\n",
    "full_acc, roi_acc, full_diff, roi_diff = run_all_logreg(761624763, datadir, scoring, stimpar, n_splits=n_reg, shuffle=False, seed=seed)\n",
    "plot_roi_acc(full_acc, roi_acc, full_diff, roi_diff, stimpar.stimtype)"
   ]
  },
  {
   "cell_type": "code",
   "execution_count": null,
   "metadata": {},
   "outputs": [],
   "source": [
    "stimpar = set_all_parameters('gabors')\n",
    "full_acc, roi_acc, full_diff, roi_diff = run_all_logreg(828816509, datadir, scoring, stimpar, n_splits=n_reg, shuffle=False, seed=seed)\n",
    "plot_roi_acc(full_acc, roi_acc, full_diff, roi_diff, stimpar.stimtype)"
   ]
  },
  {
   "cell_type": "code",
   "execution_count": null,
   "metadata": {},
   "outputs": [],
   "source": [
    "stimpar = set_all_parameters('bricks')\n",
    "full_acc, roi_acc, full_diff, roi_diff = run_all_logreg(758519303, datadir, scoring, stimpar, n_splits=n_reg, shuffle=False, seed=seed)\n",
    "plot_roi_acc(full_acc, roi_acc, full_diff, roi_diff, stimpar.stimtype)"
   ]
  },
  {
   "cell_type": "code",
   "execution_count": null,
   "metadata": {},
   "outputs": [],
   "source": [
    "stimpar = set_all_parameters('bricks')\n",
    "full_acc, roi_acc, full_diff, roi_diff = run_all_logreg(759189643, datadir, scoring, stimpar, n_splits=n_reg, shuffle=False, seed=seed)\n",
    "plot_roi_acc(full_acc, roi_acc, full_diff, roi_diff, stimpar.stimtype)"
   ]
  },
  {
   "cell_type": "code",
   "execution_count": null,
   "metadata": {},
   "outputs": [],
   "source": [
    "stimpar = set_all_parameters('bricks')\n",
    "full_acc, roi_acc, full_diff, roi_diff = run_all_logreg(761624763, datadir, scoring, stimpar, n_splits=n_reg, shuffle=False, seed=seed)\n",
    "plot_roi_acc(full_acc, roi_acc, full_diff, roi_diff, stimpar.stimtype)"
   ]
  },
  {
   "cell_type": "code",
   "execution_count": null,
   "metadata": {},
   "outputs": [],
   "source": [
    "stimpar = set_all_parameters('bricks')\n",
    "full_acc, roi_acc, full_diff, roi_diff = run_all_logreg(828816509, datadir, scoring, stimpar, n_splits=n_reg, shuffle=False, seed=seed)\n",
    "plot_roi_acc(full_acc, roi_acc, full_diff, roi_diff, stimpar.stimtype)"
   ]
  },
  {
   "cell_type": "code",
   "execution_count": null,
   "metadata": {},
   "outputs": [],
   "source": []
  }
 ],
 "metadata": {
  "kernelspec": {
   "display_name": "Python 3",
   "language": "python",
   "name": "python3"
  },
  "language_info": {
   "codemirror_mode": {
    "name": "ipython",
    "version": 3
   },
   "file_extension": ".py",
   "mimetype": "text/x-python",
   "name": "python",
   "nbconvert_exporter": "python",
   "pygments_lexer": "ipython3",
   "version": "3.6.10"
  }
 },
 "nbformat": 4,
 "nbformat_minor": 4
}
