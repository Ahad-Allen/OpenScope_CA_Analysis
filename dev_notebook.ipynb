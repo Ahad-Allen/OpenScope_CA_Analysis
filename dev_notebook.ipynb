{
 "cells": [
  {
   "cell_type": "code",
   "execution_count": 19,
   "metadata": {},
   "outputs": [
    {
     "data": {
      "text/plain": [
       "<module 'analysis.acr_sess_analys' from '/home/colleen/Documents/AIBS_Analysis/analysis/acr_sess_analys.py'>"
      ]
     },
     "execution_count": 19,
     "metadata": {},
     "output_type": "execute_result"
    }
   ],
   "source": [
    "import importlib\n",
    "\n",
    "import numpy as np\n",
    "from matplotlib import pyplot as plt\n",
    "\n",
    "from analysis import session, acr_sess_analys\n",
    "from sess_util import sess_gen_util, sess_ntuple_util\n",
    "from util import gen_util, math_util\n",
    "\n",
    "importlib.reload(acr_sess_analys)"
   ]
  },
  {
   "cell_type": "code",
   "execution_count": 8,
   "metadata": {},
   "outputs": [],
   "source": [
    "datadir = '../data/AIBS'\n",
    "sessid = 758519303"
   ]
  },
  {
   "cell_type": "code",
   "execution_count": 9,
   "metadata": {},
   "outputs": [
    {
     "name": "stdout",
     "output_type": "stream",
     "text": [
      "\n",
      "Loading stimulus dictionary...\n",
      "Loading alignment dataframe...\n",
      "    NOTE: Stimulus alignment pickle already exists in ../data/AIBS/prod/mouse_408021/ophys_session_758519303\n",
      "Loading sync h5 info...\n",
      "Creating stimulus objects...\n",
      "Loading ROI trace info...\n"
     ]
    }
   ],
   "source": [
    "sess = session.Session(datadir, sessid, runtype='prod')\n",
    "sess.extract_sess_attribs()\n",
    "sess.extract_info()"
   ]
  },
  {
   "cell_type": "code",
   "execution_count": null,
   "metadata": {},
   "outputs": [],
   "source": []
  },
  {
   "cell_type": "code",
   "execution_count": null,
   "metadata": {},
   "outputs": [],
   "source": []
  },
  {
   "cell_type": "code",
   "execution_count": 22,
   "metadata": {},
   "outputs": [
    {
     "name": "stdout",
     "output_type": "stream",
     "text": [
      "[18.  22.3  0.   0.   9.6  5.1 10.5  1.4  6.4  1.1  6.8  2.8 17.6  1.3\n",
      "  4.4  7.   0.   0.2  0.3 11.6  4.5  3.8  8.3  0.2  0.7  1.8  0.   0.\n",
      "  0.  36.1  7.3 19.6  4.3 10.5  2.6  0.1 41.2  5.2  9.5 20.9 11.5  0.\n",
      " 17.3  0.  26.2  0.6 10.2  8.2 24.7  5.6 10.9 44.8  0.3 15.5  2.1 11.4\n",
      "  0.2 31.6 11.4  0.1 12.3  5.8 11.7 50.3  0.5  0.7  8.2 49.5 12.3 65.1\n",
      " 15.9 23.7 80.6  0.1 29.5 11.9 20.4  2.5  4.8  7.8  7.9 15.4  1.9  0.4\n",
      "  6.9  0.1  0.   1.6 52.1  5.  14.4 52.5 27.6  4.8  4.2 11.6]\n"
     ]
    }
   ],
   "source": [
    "print(item_percs)"
   ]
  },
  {
   "cell_type": "code",
   "execution_count": 20,
   "metadata": {},
   "outputs": [],
   "source": [
    "# SELECTIVITY INDEX\n",
    "analyspar = sess_ntuple_util.init_analyspar()\n",
    "stimpar = sess_ntuple_util.init_stimpar(stimtype='gabors')\n",
    "item_idxs, item_percs = acr_sess_analys.surp_idx_by_sess(sess, analyspar, stimpar)"
   ]
  },
  {
   "cell_type": "code",
   "execution_count": 23,
   "metadata": {},
   "outputs": [
    {
     "data": {
      "text/plain": [
       "(array([52., 22.,  8.,  5.,  1.,  2.,  4.,  0.,  1.,  1.]),\n",
       " array([ 0.  ,  8.06, 16.12, 24.18, 32.24, 40.3 , 48.36, 56.42, 64.48,\n",
       "        72.54, 80.6 ]),\n",
       " <a list of 10 Patch objects>)"
      ]
     },
     "execution_count": 23,
     "metadata": {},
     "output_type": "execute_result"
    },
    {
     "data": {
      "image/png": "[encoded data removed]",
      "text/plain": [
       "<Figure size 432x288 with 2 Axes>"
      ]
     },
     "metadata": {
      "needs_background": "light"
     },
     "output_type": "display_data"
    }
   ],
   "source": [
    "fig, ax = plt.subplots(2)\n",
    "ax[0].hist(item_idxs)\n",
    "ax[1].hist(item_percs)"
   ]
  },
  {
   "cell_type": "code",
   "execution_count": null,
   "metadata": {},
   "outputs": [],
   "source": []
  },
  {
   "cell_type": "code",
   "execution_count": 25,
   "metadata": {},
   "outputs": [],
   "source": [
    "# EVOLUTION OF E response compared to D response\n",
    "# gabors\n",
    "stim = sess.get_stim('gabors')\n",
    "data = []\n",
    "for s in [0, 1]:\n",
    "    segs = stim.get_segs_by_criteria(gabfr=3, surp=1, by='seg')\n",
    "    # remove consecutive\n",
    "    segs = gen_util.consec(segs, smallest=True)[0]\n",
    "    if s == 0:\n",
    "        segs = [seg - 4 for seg in segs]\n",
    "    twop_fr = stim.get_twop_fr_by_seg(segs, first=True)['first_twop_fr']\n",
    "    data.append(gen_util.reshape_df_data(stim.get_roi_data(\n",
    "        twop_fr, pre=0, post=0.45, integ=False, stand=True), squeeze_cols=True))\n",
    "    data[-1] = math_util.integ(data[-1], 1./sess.twop_fps, axis=-1, nanpol='omit')\n",
    "diff_data = data[1] - data[0]"
   ]
  },
  {
   "cell_type": "code",
   "execution_count": 26,
   "metadata": {},
   "outputs": [
    {
     "data": {
      "image/png": "[encoded data removed]",
      "text/plain": [
       "<Figure size 432x288 with 1 Axes>"
      ]
     },
     "metadata": {
      "needs_background": "light"
     },
     "output_type": "display_data"
    }
   ],
   "source": [
    "fig, ax = plt.subplots(1)\n",
    "_ = ax.errorbar(range(diff_data.shape[1]), np.mean(diff_data, axis=0), \n",
    "    np.std(diff_data, axis=0))"
   ]
  },
  {
   "cell_type": "code",
   "execution_count": null,
   "metadata": {},
   "outputs": [],
   "source": []
  }
 ],
 "metadata": {
  "kernelspec": {
   "display_name": "Python 3",
   "language": "python",
   "name": "python3"
  },
  "language_info": {
   "codemirror_mode": {
    "name": "ipython",
    "version": 3
   },
   "file_extension": ".py",
   "mimetype": "text/x-python",
   "name": "python",
   "nbconvert_exporter": "python",
   "pygments_lexer": "ipython3",
   "version": "3.6.10"
  }
 },
 "nbformat": 4,
 "nbformat_minor": 4
}
